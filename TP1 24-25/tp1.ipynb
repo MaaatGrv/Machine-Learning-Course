{
 "cells": [
  {
   "cell_type": "markdown",
   "metadata": {},
   "source": [
    "# Machine Learning - TP1\n",
    "\n",
    "Dans ce premier TP, vous allez implémenter par vous-même (sans utilisation de scikit-learn pour l'instant !) les algorithmes de Régression Linéaire avec descente de gradient et de Régression Logistique."
   ]
  },
  {
   "cell_type": "markdown",
   "metadata": {},
   "source": [
    "Le sujet de TP est fourni sous forme de Jupyter Notebook, les réponses au TP (implémentation) sont à remplir dans le notebook.\n",
    "\n",
    "Pour éditer un notebook, vous pouvez utiliser :\n",
    "\n",
    "- [Google Colab](https://colab.google/) : une application Web mise à disposition par Google, spécialisée pour la recherche, l'enseignement, et l'IA (GPUs disponibles). Attention : nous ne sommes pas sûrs que vous pourrez obtenir une session, Colab peut fermer des sessions s'il considère qu'il y a trop d'utilisateurs connectés en même temps !\n",
    "\n",
    "- [Jupyter Lab](https://jupyterlab.readthedocs.io/en/stable/getting_started/overview.html) : un logiciel en Python auquel vous pouvez accéder via votre navigateur. Il s'agit de l'interface \"officielle\" par l'organisation qui gère le format \"notebook\" (Jupyter), elle fonctionne donc très bien.\n",
    "  - [JupyterLab](https://jupyterlab.readthedocs.io/en/stable/getting_started/overview.html) est l'outil recommandé : il s'installe facilement et est la version mise en avant par Jupyter pour les années à venir.\n",
    "  - [JupyterNotebook](https://jupyter-notebook.readthedocs.io/en/stable/) est plus ancien : il n'est plus recommandé par Jupyter, est remplacé par Lab, et ne sera plus disponible. Ne l'installez pas sauf si vous savez ce que vous faites !\n",
    "  - [JupyterHub](https://jupyter.org/hub) est plus adapté aux groupes d'utilisateurs (entreprise) : il permet d'avoir des notebooks en parallèle, sur différentes ressources, ... Ce n'est pas utile pour votre cas d'usage.\n",
    "\n",
    "- L'éditeur (IDE) de votre choix :\n",
    "  - VS Code : [extension Jupyter](https://marketplace.visualstudio.com/items?itemName=ms-toolsai.jupyter)\n",
    "  - PyCharm : [intégration native](https://www.jetbrains.com/help/pycharm/jupyter-notebook-support.html)\n",
    "  - (autre ...)\n",
    "\n",
    "Pour faire simple, nous recommandons **Jupyter Lab** : https://jupyter.org/install\n",
    "\n",
    "```shell\n",
    "pip install jupyterlab\n",
    "jupyter lab\n",
    "```\n",
    "\n",
    "Il vous faudra également installer les paquets Python suivants :\n",
    "\n",
    "- [NumPy](https://pypi.org/project/numpy/)\n",
    "- [Pandas](https://pypi.org/project/pandas/)\n",
    "- [Matplotlib](https://pypi.org/project/matplotlib/)\n",
    "- [Seaborn](https://pypi.org/project/seaborn/)\n",
    "- [Scikit-learn](https://pypi.org/project/scikit-learn/)\n",
    "\n",
    "Ces paquets seront déjà disponibles dans un environnement Google Colab ; vous devrez les installer manuellement dans toutes les autres situations (Jupyter Lab, VS Code, PyCharm, ...).\n",
    "\n",
    "```shell\n",
    "pip install numpy pandas matplotlib seaborn scikit-learn\n",
    "```"
   ]
  },
  {
   "cell_type": "code",
   "execution_count": 310,
   "metadata": {
    "_cell_guid": "b1076dfc-b9ad-4769-8c92-a6c4dae69d19",
    "_uuid": "8f2839f25d086af736a60e9eeb907d3b93b6e0e5",
    "execution": {
     "iopub.execute_input": "2024-08-26T11:07:41.999160Z",
     "iopub.status.busy": "2024-08-26T11:07:41.998700Z",
     "iopub.status.idle": "2024-08-26T11:07:43.392874Z",
     "shell.execute_reply": "2024-08-26T11:07:43.391570Z",
     "shell.execute_reply.started": "2024-08-26T11:07:41.999114Z"
    }
   },
   "outputs": [],
   "source": [
    "import numpy as np               # Algèbre linéaire\n",
    "import pandas as pd              # Traitement de données, lecture de jeux de données\n",
    "import matplotlib.pyplot as plt  # Librairie graphique (plots)\n",
    "import seaborn as sns            # Surcouche plus facile au-dessus de matplotlib\n",
    "\n",
    "sns.set()                        # Change quelques réglages globaux pour rendre les plots plus jolis"
   ]
  },
  {
   "cell_type": "markdown",
   "metadata": {},
   "source": [
    "## Exercice 1 : Régression Linéaire sur données 2D\n",
    "\n",
    "Pour se mettre en appétit, on reprend les bases de la régression linéaire : le jeu de données représente des données 2D, avec une relation facile à visualiser.\n",
    "Nous utiliserons les données des fichiers `data1_train.csv` et `data1_test.csv`."
   ]
  },
  {
   "cell_type": "markdown",
   "metadata": {},
   "source": [
    "Q1. Utilisez la librairie [Pandas](https://pandas.pydata.org/) pour charger les fichiers dans des DataFrame `df1_train` et `df1_test` (par convention, on préfixera souvent un DataFrame par `df`, mais ce n'est pas obligatoire).\n",
    "\n",
    "<details>\n",
    "<summary>Astuce</summary>\n",
    "Utilisez la méthode <a href=\"https://pandas.pydata.org/docs/reference/api/pandas.read_csv.html#pandas-read-csv\">pd.read_csv</a>\n",
    "</details>"
   ]
  },
  {
   "cell_type": "code",
   "execution_count": 311,
   "metadata": {},
   "outputs": [
    {
     "name": "stdout",
     "output_type": "stream",
     "text": [
      "          x         y\n",
      "0  0.000000  0.346486\n",
      "1  0.020408  0.465675\n",
      "2  0.040816  0.510143\n",
      "3  0.061224  0.508081\n",
      "4  0.081633  0.440381\n",
      "          x         y\n",
      "0 -1.000000 -0.893000\n",
      "1 -0.979592 -0.866204\n",
      "2 -0.959184 -0.839408\n",
      "3 -0.938776 -0.812612\n",
      "4 -0.918367 -0.785816\n"
     ]
    }
   ],
   "source": [
    "# Charger les fichiers CSV dans des DataFrames\n",
    "df1_train = pd.read_csv('data1_train.csv')\n",
    "df1_test = pd.read_csv('data1_test.csv')\n",
    "\n",
    "# Afficher un aperçu des données\n",
    "print(df1_train.head())\n",
    "print(df1_test.head())"
   ]
  },
  {
   "cell_type": "markdown",
   "metadata": {},
   "source": [
    "Q2. Utilisez Pandas pour décrire les données :\n",
    "\n",
    "- Quelles sont les colonnes ?\n",
    "- Combien de lignes (entrées) contiennent-elles ?\n",
    "- Quels sont les types de ces colonnes ?\n",
    "- Quelles sont les valeurs minimales, moyennes, les quartiles, ... ?\n",
    "\n",
    "<details>\n",
    "<summary>Astuce</summary>\n",
    "Regardez l'attribut <a href=\"https://pandas.pydata.org/docs/reference/api/pandas.DataFrame.dtypes.html#pandas.DataFrame.dtypes\">df.dtypes</a> et la méthode <a href=\"https://pandas.pydata.org/docs/reference/api/pandas.DataFrame.describe.html#pandas.DataFrame.describe\">df.describe()</a>\n",
    "</details>"
   ]
  },
  {
   "cell_type": "code",
   "execution_count": 312,
   "metadata": {},
   "outputs": [
    {
     "name": "stdout",
     "output_type": "stream",
     "text": [
      "Colonnes dans df1_train :  Index(['x', 'y'], dtype='object')\n",
      "Colonnes dans df1_test :  Index(['x', 'y'], dtype='object')\n",
      "Dimensions du df1_train (lignes, colonnes) :  (50, 2)\n",
      "Dimensions du df1_test (lignes, colonnes) :  (100, 2)\n",
      "\n",
      "Types des colonnes du df1_train :\n",
      " x    float64\n",
      "y    float64\n",
      "dtype: object\n",
      "\n",
      "Types des colonnes du df1_test :\n",
      " x    float64\n",
      "y    float64\n",
      "dtype: object\n",
      "\n",
      "Résumé statistique du df1_train :\n",
      "                x          y\n",
      "count  50.000000  50.000000\n",
      "mean    0.500000   1.059018\n",
      "std     0.297498   0.395989\n",
      "min     0.000000   0.346486\n",
      "25%     0.250000   0.773410\n",
      "50%     0.500000   1.019040\n",
      "75%     0.750000   1.353827\n",
      "max     1.000000   1.873943\n",
      "\n",
      "Résumé statistique du df1_test :\n",
      "                 x           y\n",
      "count  100.000000  100.000000\n",
      "mean     0.500000    1.076500\n",
      "std      1.047717    1.375653\n",
      "min     -1.000000   -0.893000\n",
      "25%     -0.494898   -0.229801\n",
      "50%      0.500000    1.076500\n",
      "75%      1.494898    2.382801\n",
      "max      2.000000    3.046000\n"
     ]
    }
   ],
   "source": [
    "# Quelles sont les colonnes ?\n",
    "print(\"Colonnes dans df1_train : \", df1_train.columns)\n",
    "print(\"Colonnes dans df1_test : \", df1_test.columns)\n",
    "\n",
    "# Combien de lignes (et colonnes) ?\n",
    "print(\"Dimensions du df1_train (lignes, colonnes) : \", df1_train.shape)\n",
    "print(\"Dimensions du df1_test (lignes, colonnes) : \", df1_test.shape)\n",
    "\n",
    "# Quels sont les types des colonnes ?\n",
    "print(\"\\nTypes des colonnes du df1_train :\\n\", df1_train.dtypes)\n",
    "print(\"\\nTypes des colonnes du df1_test :\\n\", df1_test.dtypes)\n",
    "\n",
    "# Quelles sont les valeurs minimales, moyennes, quartiles, etc. ?\n",
    "print(\"\\nRésumé statistique du df1_train :\\n\", df1_train.describe())\n",
    "print(\"\\nRésumé statistique du df1_test :\\n\", df1_test.describe())\n"
   ]
  },
  {
   "cell_type": "markdown",
   "metadata": {},
   "source": [
    "Q3. Utilisez la librairie [Matplotlib](https://matplotlib.org/) ou [Seaborn](https://seaborn.pydata.org/index.html) pour visualiser graphiquement les données d'entraînement.\n",
    "\n",
    "- Matplotlib est plus flexible, mais demande de tout spécifier soi-même ; les données sont généralement sous forme de listes.\n",
    "- Seaborn contient des \"recettes\" toutes faites pour des cas typiques, et s'interface très bien avec Pandas : on peut spécifier un DataFrame comme source de données, puis indiquer que l'axe X correspond à la colonne \"foo\", l'axe Y à la colonne \"bar\", que l'on veut grouper par la colonne \"baz\", etc. Puisque Seaborn est une surcouche de Matplotlib, on peut quand même tout personnaliser, à condition de mettre les mains dans le cambouis.\n",
    "\n",
    "<details>\n",
    "<summary>Astuce</summary>\n",
    "Utilisez la méthode <a href=\"https://seaborn.pydata.org/generated/seaborn.scatterplot.html\">sns.scatterplot</a> pour visualiser un nuage de points à partir des données X et Y.\n",
    "</details>"
   ]
  },
  {
   "cell_type": "code",
   "execution_count": 313,
   "metadata": {},
   "outputs": [
    {
     "data": {
      "image/png": "[encoded data removed]",
      "text/plain": [
       "<Figure size 640x480 with 1 Axes>"
      ]
     },
     "metadata": {},
     "output_type": "display_data"
    }
   ],
   "source": [
    "# Créer un nuage de points avec Seaborn\n",
    "sns.scatterplot(x='x', y='y', data=df1_train)\n",
    "\n",
    "# Ajouter des labels et un titre\n",
    "plt.title('Nuage de points des données d\\'entraînement')\n",
    "plt.xlabel('x')\n",
    "plt.ylabel('y')\n",
    "\n",
    "# Afficher le graphique\n",
    "plt.show()"
   ]
  },
  {
   "cell_type": "code",
   "execution_count": 314,
   "metadata": {},
   "outputs": [
    {
     "data": {
      "image/png": "[encoded data removed]",
      "text/plain": [
       "<Figure size 640x480 with 1 Axes>"
      ]
     },
     "metadata": {},
     "output_type": "display_data"
    }
   ],
   "source": [
    "# Créer un nuage de points avec Seaborn\n",
    "sns.scatterplot(x='x', y='y', data=df1_test)\n",
    "\n",
    "# Ajouter des labels et un titre\n",
    "plt.title('Nuage de points des données d\\'entraînement de test')\n",
    "plt.xlabel('x')\n",
    "plt.ylabel('y')\n",
    "\n",
    "# Afficher le graphique\n",
    "plt.show()"
   ]
  },
  {
   "cell_type": "markdown",
   "metadata": {},
   "source": [
    "Q4. Quelle relation semble probable entre ces données ? En déduire une formule abstraite $y = f(x)$ (utilisez $w_0$, $w_1$, ..., $w_n$ pour les paramètres).\n",
    "\n",
    "<details>\n",
    "<summary>Astuce</summary>\n",
    "Pas d'astuce pour celle-là, on l'a répétée en cours plein de fois ! :-)\n",
    "</details>"
   ]
  },
  {
   "cell_type": "markdown",
   "metadata": {},
   "source": [
    "f(x)=b+wx"
   ]
  },
  {
   "cell_type": "markdown",
   "metadata": {},
   "source": [
    "Q5. On veut maintenant trouver un modèle permettant de prédire les données de test, c'est-à-dire les paramètres $\\mathbf{w}$ qui offrent la plus petite erreur sur les données d'entraînement. On commence par préparer les données : on va travailler avec des [np.ndarrays](https://numpy.org/doc/stable/reference/generated/numpy.ndarray.html) plutôt que des DataFrame, afin de pouvoir manipuler ces vecteurs plus facilement (addition, multiplication, ...) et plus efficacement (NumPy utilise du code C en arrière-plan pour optimiser).\n",
    "\n",
    "Divisez vos données d'entraînement et de test en `X_train, Y_train, X_test, Y_test`.\n",
    "\n",
    "<details>\n",
    "<summary>Astuce</summary>\n",
    "Ici, le jeu de données est simple et ne contient que 2 colonnes : 1 colonne de features (X) et 1 colonne de labels (Y). On peut donc directement les récupérer par <a href=\"https://pandas.pydata.org/docs/user_guide/indexing.html#basics\">indexation</a>.\n",
    "Quand il y a plus de colonnes, il peut être laborieux de les sélectionner 1 par 1 ; il est alors plus simple de supprimer (<a href=\"https://pandas.pydata.org/docs/reference/api/pandas.DataFrame.drop.html#pandas.DataFrame.drop\">drop</a>) les colonnes qu'on ne veut pas.\n",
    "\n",
    "Ensuite, pour passer à un vecteur NumPy, utilisez <a href=\"https://pandas.pydata.org/docs/reference/api/pandas.Series.to_numpy.html#pandas.Series.to_numpy\">s.to_numpy()</a> ou le constructeur <a href=\"https://numpy.org/doc/stable/reference/generated/numpy.ndarray.html\">np.ndarray</a>.\n",
    "</details>"
   ]
  },
  {
   "cell_type": "code",
   "execution_count": 315,
   "metadata": {},
   "outputs": [],
   "source": [
    "# Extraire X et Y de df1_train et df1_test\n",
    "X_train = df1_train.iloc[:, 0].to_numpy().reshape(-1, 1)  # Extraire la première colonne (features)\n",
    "Y_train = df1_train.iloc[:, 1].to_numpy().reshape(-1, 1)  # Extraire la deuxième colonne (labels)\n",
    "\n",
    "X_test = df1_test.iloc[:, 0].to_numpy().reshape(-1, 1)    # Extraire la première colonne (features)\n",
    "Y_test = df1_test.iloc[:, 1].to_numpy().reshape(-1, 1)    # Extraire la deuxième colonne (labels)"
   ]
  },
  {
   "cell_type": "markdown",
   "metadata": {},
   "source": [
    "Q5bis. Bonne pratique : vous devriez toujours vérifier le [shape](https://numpy.org/doc/stable/reference/generated/numpy.ndarray.shape.html#numpy.ndarray.shape) de vos ndarrays. En particulier, assurez-vous que le nombre de colonnes est correct (ici, c'est facile : il n'y en a qu'une !), et que le nombre d'individus dans X correspond au nombre d'individus dans Y. Il n'est pas rare de voir des `assert a.shape == (truc, bidule)` ou encore `assert len(a.shape) == 2` (vérifie que le tableau contient 2 dimensions) pour s'assurer que les données reçues correspondent (en forme) à ce qu'on attend.\n",
    "\n",
    "<details>\n",
    "<summary>Astuce</summary>\n",
    "L'attribut <a href=\"https://numpy.org/doc/stable/reference/generated/numpy.ndarray.shape.html#numpy.ndarray.shape\">a.shape</a> d'un ndarray nommé `a` est un tuple indiquant le nombre d'éléments pour chaque dimension. Par exemple, `(10, 2,)` signifie que le tableau contient 10 lignes, 2 colonnes.\n",
    "</details>"
   ]
  },
  {
   "cell_type": "code",
   "execution_count": 316,
   "metadata": {},
   "outputs": [
    {
     "name": "stdout",
     "output_type": "stream",
     "text": [
      "Shape de X_train: (50, 1)\n",
      "Shape de Y_train: (50, 1)\n",
      "Shape de X_test: (100, 1)\n",
      "Shape de Y_test: (100, 1)\n",
      "Toutes les vérifications ont été effectuées avec succès !\n"
     ]
    }
   ],
   "source": [
    "# Vérifier le shape des tableaux\n",
    "print(\"Shape de X_train:\", X_train.shape)\n",
    "print(\"Shape de Y_train:\", Y_train.shape)\n",
    "print(\"Shape de X_test:\", X_test.shape)\n",
    "print(\"Shape de Y_test:\", Y_test.shape)\n",
    "\n",
    "# Vérification que les nombres d'échantillons correspondent\n",
    "assert X_train.shape[0] == Y_train.shape[0], \"Le nombre d'échantillons dans X_train et Y_train ne correspond pas\"\n",
    "assert X_test.shape[0] == Y_test.shape[0], \"Le nombre d'échantillons dans X_test et Y_test ne correspond pas\"\n",
    "\n",
    "# Vérification que les tableaux ont bien 2 dimensions\n",
    "assert len(X_train.shape) == 2, \"X_train n'a pas 2 dimensions\"\n",
    "assert len(Y_train.shape) == 2, \"Y_train n'a pas 2 dimensions\"\n",
    "assert len(X_test.shape) == 2, \"X_test n'a pas 2 dimensions\"\n",
    "assert len(Y_test.shape) == 2, \"Y_test n'a pas 2 dimensions\"\n",
    "\n",
    "print(\"Toutes les vérifications ont été effectuées avec succès !\")\n"
   ]
  },
  {
   "cell_type": "markdown",
   "metadata": {},
   "source": [
    "Q6. On va maintenant commencer à implémenter la Régression Linéaire avec descente de gradient. Initialisez un ndarray de paramètres `w` aléatoirement entre 0 et 1 (distribution uniforme). La taille du tableau dépend de votre réponse à la question Q4.\n",
    "\n",
    "<details>\n",
    "<summary>Astuce</summary>\n",
    "Utilisez la méthode <a href=\"https://numpy.org/doc/stable/reference/random/generated/numpy.random.uniform.html#numpy.random.uniform\">np.random.uniform</a> ; elle est similaire à `np.random.rand()`, `np.random.random()` et `np.random.random_sample()` mais plus configurable et plus clairement nommée. Je vous recommande d'utiliser des arguments nommés (<i>keyworded-args</i> ou <i>kwargs</i> en Python) pour rendre votre code lisible au premier coup d'oeil, sans avoir besoin de se rappeler de la doc de chaque fonction par coeur.\n",
    "</details>"
   ]
  },
  {
   "cell_type": "code",
   "execution_count": 317,
   "metadata": {},
   "outputs": [
    {
     "name": "stdout",
     "output_type": "stream",
     "text": [
      "Paramètres w initialisés :\n",
      " [0.11387088 0.82849178]\n"
     ]
    }
   ],
   "source": [
    "# Initialiser w avec des valeurs aléatoires entre 0 et 1\n",
    "# La taille du tableau w est de (nombre de features + 1) pour inclure le biais\n",
    "# Ici, X_train a une seule colonne (1 feature), donc w doit avoir une taille de 2\n",
    "w = np.random.uniform(low=0, high=1, size=(X_train.shape[1] + 1,))  # 1D\n",
    "\n",
    "\n",
    "print(\"Paramètres w initialisés :\\n\", w)"
   ]
  },
  {
   "cell_type": "markdown",
   "metadata": {},
   "source": [
    "Q7. Ajoutez une colonne de biais, c'est-à-dire ne contenant que des 1, à vos features `X_train` et `X_test`.\n",
    "Par convention, on ajoute cette colonne au début des features, afin qu'elle corresponde au paramètre $w_0$ ; la 1ère \"vraie\" feature $x_1$ correspondra donc au paramètre $w_1$, etc.\n",
    "\n",
    "<details>\n",
    "<summary>Astuce</summary>\n",
    "On peut utiliser <a href=\"https://numpy.org/doc/stable/reference/generated/numpy.ones.html#numpy.ones\">np.ones(shape)</a> pour générer un ndarray ne contenant que des 1 de forme `shape`, ou <a href=\"https://numpy.org/doc/stable/reference/generated/numpy.ones_like.html#numpy.ones_like\">np.ones_like(a)</a> pour générer un ndarray ne contenant que des 1 avec la même forme que `a`.\n",
    "\n",
    "(Pour information, np.zeros(shape) et np.zeros_like(a) fonctionnent de la même manière)\n",
    "\n",
    "Vous aurez probablement besoin de changer la forme du tableau de features via <a href=\"https://numpy.org/doc/stable/reference/generated/numpy.ndarray.reshape.html#numpy.ndarray.reshape\">a.reshape()</a> : en l'état, `X_train` et `X_test` sont des tableaux 1D, ne contenant qu'une seule dimension. La notion de lignes ou de colonnes n'a donc pas de sens. À la place, on veut un tableau 2D de shape $(n, 1)$, c'est-à-dire n lignes (individus) et 1 seule colonne (feature) par ligne.\n",
    "\n",
    "Ensuite, pour concaténer, il existe plusieurs méthodes, selon <a href=\"https://www.sharpsightlabs.com/blog/numpy-axes-explained/\">l'axe</a> souhaité :\n",
    "<ul>\n",
    "    <li><a href=\"https://numpy.org/doc/stable/reference/generated/numpy.stack.html#numpy.stack\">np.stack()</a> (très flexible, configurable ; crée un nouvel axe)</li>\n",
    "    <li><a href=\"https://numpy.org/doc/stable/reference/generated/numpy.concatenate.html#numpy.concatenate\">np.concatenate()</a> (très flexible, configurable ; joint sur un axe existant)</li>\n",
    "    <li><a href=\"https://numpy.org/doc/stable/reference/generated/numpy.vstack.html#numpy-vstack\">np.vstack()</a> (stack vertical)</li>\n",
    "    <li><a href=\"https://numpy.org/doc/stable/reference/generated/numpy.hstack.html#numpy.hstack\">np.hstack()</a> (stack horizontal)</li>\n",
    "    <li><a href=\"https://numpy.org/doc/stable/reference/generated/numpy.dstack.html#numpy.dstack\">np.dstack()</a> (stack en profondeur)</li>\n",
    "</ul>"
   ]
  },
  {
   "cell_type": "code",
   "execution_count": 318,
   "metadata": {},
   "outputs": [
    {
     "name": "stdout",
     "output_type": "stream",
     "text": [
      "Shape de X_train_biased : (50, 2)\n",
      "Shape de X_test_biased : (100, 2)\n",
      "\n",
      "X_train_biased:\n",
      " [[1.         0.        ]\n",
      " [1.         0.02040816]\n",
      " [1.         0.04081633]\n",
      " [1.         0.06122449]\n",
      " [1.         0.08163265]]\n",
      "\n",
      "X_test_biased:\n",
      " [[ 1.         -1.        ]\n",
      " [ 1.         -0.97959184]\n",
      " [ 1.         -0.95918367]\n",
      " [ 1.         -0.93877551]\n",
      " [ 1.         -0.91836735]]\n"
     ]
    }
   ],
   "source": [
    "# 1. Créer une colonne de biais (de 1) pour X_train et X_test\n",
    "bias_train = np.ones((X_train.shape[0], 1))  # Shape : (n_samples, 1)\n",
    "bias_test = np.ones((X_test.shape[0], 1))    # Shape : (n_samples, 1)\n",
    "\n",
    "# 2. Concaténer la colonne de biais avec X_train et X_test\n",
    "X_train_biased = np.hstack((bias_train, X_train))  # Hstack pour une concaténation horizontale\n",
    "X_test_biased = np.hstack((bias_test, X_test))     # Hstack pour une concaténation horizontale\n",
    "\n",
    "# Afficher les nouveaux shapes\n",
    "print(\"Shape de X_train_biased :\", X_train_biased.shape)\n",
    "print(\"Shape de X_test_biased :\", X_test_biased.shape)\n",
    "\n",
    "# Afficher les données avec le biais\n",
    "print(\"\\nX_train_biased:\\n\", X_train_biased[:5])  # Afficher les 5 premières lignes\n",
    "print(\"\\nX_test_biased:\\n\", X_test_biased[:5])    # Afficher les 5 premières lignes\n"
   ]
  },
  {
   "cell_type": "markdown",
   "metadata": {},
   "source": [
    "Q7bis. Vérifiez le shape de vos tableaux (y aviez-vous pensé avant de lire cette question ? :-)) et regardez les premières lignes pour être sûr que chaque colonne est au bon endroit.\n",
    "\n",
    "<details>\n",
    "<summary>Astuce</summary>\n",
    "L'indexation NumPy fonctionne sur chaque axe, en séparant les axes par des virgules. Par exemple, `a[i, j]` veut dire \"prendre l'élément dans la ligne i (axe 0) et dans la colonne j (axe 1)\".\n",
    "On rappelle qu'en Python, on peut utiliser `a[start:end]` pour indexer de `start` (inclus) à `end` (non inclus).\n",
    "\n",
    "Essayez d'obtenir :\n",
    "- les 5 premières lignes (toutes les colonnes)\n",
    "- la colonne 1 uniquement des 5 dernières lignes.\n",
    "</details>"
   ]
  },
  {
   "cell_type": "code",
   "execution_count": 319,
   "metadata": {},
   "outputs": [
    {
     "name": "stdout",
     "output_type": "stream",
     "text": [
      "Shape de X_train_biased : (50, 2)\n",
      "Shape de X_test_biased : (100, 2)\n",
      "\n",
      "5 premières lignes de X_train_biased :\n",
      " [[1.         0.        ]\n",
      " [1.         0.02040816]\n",
      " [1.         0.04081633]\n",
      " [1.         0.06122449]\n",
      " [1.         0.08163265]]\n",
      "\n",
      "Colonne 1 des 5 dernières lignes de X_train_biased :\n",
      " [0.91836735 0.93877551 0.95918367 0.97959184 1.        ]\n"
     ]
    }
   ],
   "source": [
    "# Vérifier le shape des tableaux\n",
    "print(\"Shape de X_train_biased :\", X_train_biased.shape)\n",
    "print(\"Shape de X_test_biased :\", X_test_biased.shape)\n",
    "\n",
    "# Afficher les 5 premières lignes de X_train_biased\n",
    "print(\"\\n5 premières lignes de X_train_biased :\\n\", X_train_biased[:5])\n",
    "\n",
    "# Afficher la colonne 1 (index 0 pour le biais, index 1 pour la feature) des 5 dernières lignes de X_train_biased\n",
    "print(\"\\nColonne 1 des 5 dernières lignes de X_train_biased :\\n\", X_train_biased[-5:, 1])  # -5 pour obtenir les 5 dernières lignes\n"
   ]
  },
  {
   "cell_type": "markdown",
   "metadata": {},
   "source": [
    "Q8. Écrivez la fonction `model(X, w)` qui prend en paramètre des données `X` (n individus, k features) et des paramètres `w` (de taille k), et qui renvoie les prédictions pour chaque individu (de taille n), selon la formule de la Régression Linéaire.\n",
    "\n",
    "<details>\n",
    "<summary>Astuce</summary>\n",
    "On rappelle que la régression linéaire est une combinaison linéaire des entrées et des paramètres : $y = \\sum_i w_i x_i$.\n",
    "Puisque nous avons une matrice et un vecteur (ndarrays), on peut utiliser le produit scalaire : <a href=\"https://numpy.org/doc/stable/reference/generated/numpy.dot.html#numpy.dot\">np.dot()</a>.\n",
    "</details>"
   ]
  },
  {
   "cell_type": "code",
   "execution_count": 320,
   "metadata": {},
   "outputs": [
    {
     "name": "stdout",
     "output_type": "stream",
     "text": [
      "Prédictions sur les données d'entraînement :\n",
      " [0.11387088 0.13077888 0.14768688 0.16459487 0.18150287]\n"
     ]
    }
   ],
   "source": [
    "def model(X, w):\n",
    "    \"\"\"\n",
    "    Fonction pour prédire les valeurs de y selon les données X et les paramètres w.\n",
    "    \n",
    "    Paramètres :\n",
    "    X : np.ndarray\n",
    "        Matrice des données (n individus, k features).\n",
    "    w : np.ndarray\n",
    "        Vecteur des paramètres (k, 1).\n",
    "        \n",
    "    Retourne :\n",
    "    np.ndarray\n",
    "        Vecteur des prédictions (n, 1).\n",
    "    \"\"\"\n",
    "    # Calcul des prédictions\n",
    "    predictions = np.dot(X, w)  # Produit scalaire entre X et w\n",
    "    return predictions  # devrait déjà être (100, 1) si X est (100, 3) et w est (3, 1)\n",
    "\n",
    "# Exemple d'utilisation de la fonction\n",
    "predictions_train = model(X_train_biased, w)\n",
    "print(\"Prédictions sur les données d'entraînement :\\n\", predictions_train[:5])  # Afficher les 5 premières prédictions\n"
   ]
  },
  {
   "cell_type": "markdown",
   "metadata": {},
   "source": [
    "Q8bis. Vérifiez le shape des prédictions."
   ]
  },
  {
   "cell_type": "code",
   "execution_count": 321,
   "metadata": {},
   "outputs": [
    {
     "name": "stdout",
     "output_type": "stream",
     "text": [
      "Shape des prédictions sur les données d'entraînement : (50,)\n",
      "5 premières prédictions : [0.11387088 0.13077888 0.14768688 0.16459487 0.18150287]\n"
     ]
    }
   ],
   "source": [
    "# Obtenir les prédictions sur les données d'entraînement\n",
    "predictions_train = model(X_train_biased, w)\n",
    "\n",
    "# Vérifier le shape des prédictions\n",
    "print(\"Shape des prédictions sur les données d'entraînement :\", predictions_train.shape)\n",
    "\n",
    "# Optionnel : Afficher les 5 premières prédictions pour vérifier leur contenu\n",
    "print(\"5 premières prédictions :\", predictions_train[:5])\n"
   ]
  },
  {
   "cell_type": "markdown",
   "metadata": {},
   "source": [
    "Q9. Affichez visuellement les prédictions sous forme de droite, par-dessus les données d'entraînement. Inspirez-vous de votre réponse à la Q3. Idéalement, changez la couleur de la droite (par exemple en rouge) pour qu'elle soit plus visible.\n",
    "\n",
    "<details>\n",
    "<summary>Astuce</summary>\n",
    "Dans Seaborn, la fonction permettant de tracer une droite est <a href=\"https://seaborn.pydata.org/generated/seaborn.lineplot.html#seaborn-lineplot\">sns.lineplot()</a>.\n",
    "</details>"
   ]
  },
  {
   "cell_type": "code",
   "execution_count": 322,
   "metadata": {},
   "outputs": [
    {
     "data": {
      "image/png": "[encoded data removed]",
      "text/plain": [
       "<Figure size 1000x600 with 1 Axes>"
      ]
     },
     "metadata": {},
     "output_type": "display_data"
    }
   ],
   "source": [
    "# Tracer les données d'entraînement\n",
    "plt.figure(figsize=(10, 6))\n",
    "sns.scatterplot(x=X_train_biased[:, 1], y=Y_train.flatten(), color='blue', label='Données d\\'entraînement')\n",
    "\n",
    "# Tracer les prédictions (droite) en rouge\n",
    "# Ici, on s'assure que les prédictions sont également à une dimension\n",
    "sns.lineplot(x=X_train_biased[:, 1], y=predictions_train.flatten(), color='red', label='Prédictions', linewidth=2)\n",
    "\n",
    "# Ajouter des labels et un titre\n",
    "plt.title('Prédictions de Régression Linéaire sur les Données d\\'Entraînement')\n",
    "plt.xlabel('Feature (X)')\n",
    "plt.ylabel('Labels (Y)')\n",
    "plt.legend()\n",
    "plt.grid()\n",
    "\n",
    "# Afficher le graphique\n",
    "plt.show()"
   ]
  },
  {
   "cell_type": "markdown",
   "metadata": {},
   "source": [
    "Q10. Normalement, vos prédictions ne correspondent pas au nuage de points : c'est normal, nous avons initialisé les paramètres aléatoirement.\n",
    "(Si vos prédictions correspondent, félicitations, et allez jouer au Loto en sortant du cours)\n",
    "\n",
    "Nous allons maintenant calculer la perte (*loss*) entre les prédictions et les vrais labels, afin de pouvoir ensuite mettre à jour les paramètres en fonction de la perte.\n",
    "Implémentez une fonction `loss(X, Y, w)` qui renvoie l'erreur quadratique moyenne (MSE) pour tous les individus dans `X` (de forme $(n, k)$), tous les vrais labels dans `Y` (de taille $n$), et selon les paramètres du modèle `w` (de taille $k$).\n",
    "\n",
    "<details>\n",
    "<summary>Astuce</summary>\n",
    "\n",
    "On rappelle tout d'abord la formule de la MSE : \n",
    "$$J(w) = \\frac{1}{n} \\sum_{i=0}^n (x_i \\cdot w_i - y_i)^2$$\n",
    "\n",
    "Avec les tableaux NumPy, beaucoup d'opérations sont *broadcast*, c'est-à-dire qu'elles s'effectuent sur les composants.\n",
    "Par exemple : `np.array([1, 2, 3]) * 2 == np.array([2, 4, 6])` : on a appliqué l'opération \"fois 2\" à chacun des éléments du tableau. Il est donc possible de \"vectoriser\" des opérations mathématiques, plutôt que d'utiliser des boucles Python (très lentes...).\n",
    "\n",
    "Pour faire la somme de tous les éléments d'un tableau, utilisez <a href=\"https://numpy.org/doc/stable/reference/generated/numpy.sum.html#numpy.sum\">np.sum()</a>\n",
    "</details>"
   ]
  },
  {
   "cell_type": "code",
   "execution_count": 323,
   "metadata": {},
   "outputs": [],
   "source": [
    "def loss(X, Y, w):\n",
    "    \"\"\"\n",
    "    Fonction pour calculer l'erreur quadratique moyenne (MSE) entre les prédictions et les vrais labels.\n",
    "    \n",
    "    Paramètres :\n",
    "    X : np.ndarray\n",
    "        Matrice des données (n individus, k features).\n",
    "    Y : np.ndarray\n",
    "        Vecteur des vrais labels (n,).\n",
    "    w : np.ndarray\n",
    "        Vecteur des paramètres (k,).\n",
    "        \n",
    "    Retourne :\n",
    "    float\n",
    "        Valeur de la perte (MSE).\n",
    "    \"\"\"\n",
    "    # Calcul des prédictions\n",
    "    predictions = model(X, w)\n",
    "    \n",
    "    # Calcul de l'erreur (différence) entre prédictions et vrais labels\n",
    "    errors = predictions.flatten() - Y.flatten()  # S'assurer que tout est 1D\n",
    "    \n",
    "    # Calcul de la MSE\n",
    "    mse = np.mean(errors ** 2)  # Moyenne des carrés des erreurs\n",
    "    \n",
    "    return mse    "
   ]
  },
  {
   "cell_type": "markdown",
   "metadata": {},
   "source": [
    "Q10bis. Affichez la loss pour les prédictions avec les paramètres initiaux."
   ]
  },
  {
   "cell_type": "code",
   "execution_count": 324,
   "metadata": {},
   "outputs": [
    {
     "name": "stdout",
     "output_type": "stream",
     "text": [
      "Erreur quadratique moyenne (MSE) avec les paramètres initiaux : 0.31177772222769645\n"
     ]
    }
   ],
   "source": [
    "# Calculer la MSE avec les paramètres initiaux\n",
    "initial_mse = loss(X_train_biased, Y_train, w)\n",
    "\n",
    "# Afficher la perte initiale\n",
    "print(\"Erreur quadratique moyenne (MSE) avec les paramètres initiaux :\", initial_mse)\n"
   ]
  },
  {
   "cell_type": "markdown",
   "metadata": {},
   "source": [
    "Q11. Implémentez la fonction `grad(X, Y, w)` qui retourne le gradient de la fonction d'erreur.\n",
    "\n",
    "<details>\n",
    "<summary>Astuce</summary>\n",
    "\n",
    "On rappelle la formule du gradient de la MSE vue en cours :\n",
    "$$\\nabla J(w) = \\frac{2}{n} X^T (X \\cdot w - Y)$$\n",
    "</details>"
   ]
  },
  {
   "cell_type": "code",
   "execution_count": 325,
   "metadata": {},
   "outputs": [
    {
     "name": "stdout",
     "output_type": "stream",
     "text": [
      "Gradient de la MSE avec les paramètres initiaux : [-1.06180279 -0.60840989]\n"
     ]
    }
   ],
   "source": [
    "def grad(X, Y, w):\n",
    "    \"\"\"\n",
    "    Fonction pour calculer le gradient de l'erreur quadratique moyenne (MSE).\n",
    "    \n",
    "    Paramètres :\n",
    "    X : np.ndarray\n",
    "        Matrice des données (n individus, k features).\n",
    "    Y : np.ndarray\n",
    "        Vecteur des vrais labels (n,).\n",
    "    w : np.ndarray\n",
    "        Vecteur des paramètres (k,).\n",
    "        \n",
    "    Retourne :\n",
    "    np.ndarray\n",
    "        Vecteur du gradient (k,).\n",
    "    \"\"\"\n",
    "    n = X.shape[0]  # Nombre d'individus\n",
    "    # Calcul des prédictions\n",
    "    predictions = model(X, w)\n",
    "    \n",
    "    # Calcul des erreurs\n",
    "    errors = predictions - Y.flatten()  # S'assurer que tout est 1D\n",
    "    \n",
    "    # Calcul du gradient\n",
    "    gradient = (2 / n) * np.dot(X.T, errors)  # Produit matriciel X^T (X * w - Y)\n",
    "    \n",
    "    return gradient\n",
    "\n",
    "# Exemple d'utilisation de la fonction\n",
    "gradient_value = grad(X_train_biased, Y_train, w)\n",
    "print(\"Gradient de la MSE avec les paramètres initiaux :\", gradient_value)\n",
    "    "
   ]
  },
  {
   "cell_type": "markdown",
   "metadata": {},
   "source": [
    "Q12. Implémentez la descente de gradient (non-stochastique : sur l'ensemble des individus en même temps) dans une fonction `gradient_descent(X, Y, w, learning_rate, n_iterations)`.\n",
    "\n",
    "La fonction devra calculer le gradient sur l'ensemble des individus $(X, Y)$ avec les points $w$ actuels, puis mettre à jour les poids $w$ (pondéré par le taux d'apprentissage `learning_rate` ou `lr`), répété `n_iterations` fois.\n",
    "Elle renverra pour finir les paramètres $w$ finaux, appris au terme de la boucle."
   ]
  },
  {
   "cell_type": "code",
   "execution_count": 326,
   "metadata": {},
   "outputs": [
    {
     "name": "stdout",
     "output_type": "stream",
     "text": [
      "Paramètres appris après la descente de gradient : [0.45124204 1.21963842]\n"
     ]
    }
   ],
   "source": [
    "def gradient_descent(X, Y, w, learning_rate, n_iterations):\n",
    "    \"\"\"\n",
    "    Fonction pour effectuer la descente de gradient sur la MSE.\n",
    "    \n",
    "    Paramètres :\n",
    "    X : np.ndarray\n",
    "        Matrice des données (n individus, k features).\n",
    "    Y : np.ndarray\n",
    "        Vecteur des vrais labels (n,).\n",
    "    w : np.ndarray\n",
    "        Vecteur des paramètres initiaux (k,).\n",
    "    learning_rate : float\n",
    "        Taux d'apprentissage.\n",
    "    n_iterations : int\n",
    "        Nombre d'itérations pour la mise à jour des poids.\n",
    "        \n",
    "    Retourne :\n",
    "    np.ndarray\n",
    "        Vecteur des paramètres appris (k,).\n",
    "    \"\"\"\n",
    "    for i in range(n_iterations):\n",
    "        # Calculer le gradient\n",
    "        gradient = grad(X, Y, w)\n",
    "        \n",
    "        # Mettre à jour les poids w\n",
    "        w -= learning_rate * gradient  # Mise à jour avec le gradient\n",
    "        \n",
    "    return w\n",
    "\n",
    "# Exemple d'utilisation de la fonction\n",
    "final_w = gradient_descent(X_train_biased, Y_train, w, learning_rate=0.01, n_iterations=1000)\n",
    "print(\"Paramètres appris après la descente de gradient :\", final_w)\n"
   ]
  },
  {
   "cell_type": "markdown",
   "metadata": {},
   "source": [
    "Q12 bonus. Implémentez la descente de gradient stochastique dans une fonction `sgd(X, Y, w, learning_rate, n_iterations)`.\n",
    "\n",
    "Pour rappel, dans la SGD on ne traite les individus qu'1 par 1 (une itération reste le traitement de tous les individus 1 fois). Pour réutiliser au maximum les fonctions déjà implémentées, il faudra que les individus soient des matrices 2D ne contenant qu'1 seule ligne (comme si on avait une population de taille 1)."
   ]
  },
  {
   "cell_type": "code",
   "execution_count": 327,
   "metadata": {},
   "outputs": [
    {
     "name": "stdout",
     "output_type": "stream",
     "text": [
      "Paramètres appris après la descente de gradient stochastique : [0.44258296 1.27816954]\n"
     ]
    }
   ],
   "source": [
    "def sgd(X, Y, w, learning_rate, n_iterations):\n",
    "    \"\"\"\n",
    "    Fonction pour effectuer la descente de gradient stochastique (SGD).\n",
    "    \n",
    "    Paramètres :\n",
    "    X : np.ndarray\n",
    "        Matrice des données (n individus, k features).\n",
    "    Y : np.ndarray\n",
    "        Vecteur des vrais labels (n,).\n",
    "    w : np.ndarray\n",
    "        Vecteur des paramètres initiaux (k,).\n",
    "    learning_rate : float\n",
    "        Taux d'apprentissage.\n",
    "    n_iterations : int\n",
    "        Nombre total d'itérations pour la mise à jour des poids.\n",
    "        \n",
    "    Retourne :\n",
    "    np.ndarray\n",
    "        Vecteur des paramètres appris (k,).\n",
    "    \"\"\"\n",
    "    n_samples = X.shape[0]\n",
    "    \n",
    "    for i in range(n_iterations):\n",
    "        # Choisir un indice aléatoire\n",
    "        idx = np.random.randint(0, n_samples)\n",
    "        \n",
    "        # Extraire l'individu correspondant\n",
    "        X_i = X[idx:idx + 1]  # Crée une matrice 2D avec une seule ligne\n",
    "        Y_i = Y[idx:idx + 1]  # Crée un vecteur avec un seul label\n",
    "        \n",
    "        # Calculer le gradient pour cet individu\n",
    "        gradient = grad(X_i, Y_i, w)\n",
    "        \n",
    "        # Mettre à jour les poids w\n",
    "        w -= learning_rate * gradient.flatten()  # Aplatir le gradient pour la mise à jour\n",
    "        \n",
    "    return w\n",
    "\n",
    "# Exemple d'utilisation de la fonction\n",
    "final_w_sgd = sgd(X_train_biased, Y_train, w, learning_rate=0.01, n_iterations=1000)\n",
    "print(\"Paramètres appris après la descente de gradient stochastique :\", final_w_sgd)\n"
   ]
  },
  {
   "cell_type": "markdown",
   "metadata": {},
   "source": [
    "Q13. Exécutez la descente de gradient pour obtenir les poids finaux `w_optimal`. Vérifiez maintenant votre modèle appris sur les données de test : affichez la loss entre les prédictions du modèle sur les `X_test` et les labels `Y_test`."
   ]
  },
  {
   "cell_type": "code",
   "execution_count": 328,
   "metadata": {},
   "outputs": [
    {
     "name": "stdout",
     "output_type": "stream",
     "text": [
      "Paramètres optimaux appris : [0.42226916 1.27362163]\n",
      "Perte (loss) sur les données de test : 0.001988609011045384\n"
     ]
    }
   ],
   "source": [
    "# 1. Exécuter la descente de gradient (choisis entre gradient_descent ou sgd)\n",
    "w_optimal = gradient_descent(X_train_biased, Y_train, w, learning_rate=0.01, n_iterations=1000)\n",
    "# ou\n",
    "# w_optimal = sgd(X_train_biased, Y_train, w, learning_rate=0.01, n_iterations=1000)\n",
    "\n",
    "# 2. Calculer les prédictions sur les données de test\n",
    "predictions = model(X_test_biased, w_optimal)\n",
    "\n",
    "# 3. Calculer la perte sur les données de test\n",
    "test_loss = loss(X_test_biased, Y_test, w_optimal)\n",
    "\n",
    "# Afficher les résultats\n",
    "print(\"Paramètres optimaux appris :\", w_optimal)\n",
    "print(\"Perte (loss) sur les données de test :\", test_loss)\n"
   ]
  },
  {
   "cell_type": "markdown",
   "metadata": {},
   "source": [
    "Q14. Visualisez maintenant les prédictions par-dessus le nuage de points, en incluant cette fois les données de test dans le plot en plus des données d'entraînement (idéalement, dans une couleur différente, par exemple vert). Inspirez-vous de la Q9.\n",
    "\n",
    "Remarque : vous devriez voir sur le graphique que les données d'entraînement ont été bruitées, mais pas celles de test. Cela permet, dans le cadre de cet exercice, de vérifier si votre algorithme a été capable d'apprendre un modèle précis du phénomène que l'on cherchait à modéliser, et que vous ne connaissiez pas (vous n'aviez que des exemples de ce phénomène, via les données d'entraînement).\n",
    "Dans la pratique, les données sont souvent bruitées, que ce soit par les capteurs que l'on utilise, une incompréhension du phénomène menant à un manque de données, ... y compris pour les données de test. Il est donc important que les modèles arrivent à \"voir au-delà du bruit\"."
   ]
  },
  {
   "cell_type": "code",
   "execution_count": 329,
   "metadata": {},
   "outputs": [
    {
     "data": {
      "image/png": "[encoded data removed]",
      "text/plain": [
       "<Figure size 1000x600 with 1 Axes>"
      ]
     },
     "metadata": {},
     "output_type": "display_data"
    }
   ],
   "source": [
    "# Tracer le nuage de points des données d'entraînement\n",
    "plt.figure(figsize=(10, 6))\n",
    "sns.scatterplot(x=X_train.flatten(), y=Y_train.flatten(), color='blue', label='Données d\\'entraînement')\n",
    "\n",
    "# Tracer le nuage de points des données de test\n",
    "sns.scatterplot(x=X_test.flatten(), y=Y_test.flatten(), color='green', label='Données de test')\n",
    "\n",
    "# Tracer la ligne de régression (prédictions sur l'ensemble des X)\n",
    "x_range = np.linspace(X_train.min(), X_train.max(), 100).reshape(-1, 1)\n",
    "x_range_biased = np.hstack((np.ones((x_range.shape[0], 1)), x_range))  # Ajouter la colonne de biais\n",
    "predictions_range = model(x_range_biased, w_optimal)  # Prédictions pour le nuage de points\n",
    "\n",
    "# Tracer la ligne de régression\n",
    "sns.lineplot(x=x_range.flatten(), y=predictions_range.flatten(), color='red', label='Modèle appris')\n",
    "\n",
    "# Configurer le graphique\n",
    "plt.title('Visualisation des prédictions et des données')\n",
    "plt.xlabel('Feature X')\n",
    "plt.ylabel('Label Y')\n",
    "plt.legend()\n",
    "plt.grid()\n",
    "plt.show()\n"
   ]
  },
  {
   "cell_type": "markdown",
   "metadata": {},
   "source": [
    "Q14 bonus. Donnez la formule du phénomène dont vous deviez trouver le modèle ; en d'autres termes, interprétez le modèle appris."
   ]
  },
  {
   "cell_type": "code",
   "execution_count": null,
   "metadata": {},
   "outputs": [],
   "source": []
  },
  {
   "cell_type": "markdown",
   "metadata": {},
   "source": [
    "Q15. Nous allons maintenant étudier l'impact du nombre d'itérations sur la loss. Pour cela, copiez votre fonction `gradient_descent` en `gradient_descent2`, qui devra, en plus de mettre à jour les paramètres à chaque itération, retenir la loss correspondante, et retourner, en plus des paramètres, le tableau des \"loss par pas de temps\".\n",
    "Vous devriez pouvoir réutiliser tout le code que vous aviez écrit."
   ]
  },
  {
   "cell_type": "code",
   "execution_count": 330,
   "metadata": {},
   "outputs": [],
   "source": [
    "def gradient_descent2(X, Y, w, learning_rate, n_iterations):\n",
    "    # Initialiser un tableau pour stocker la loss à chaque itération\n",
    "    losses = np.zeros(n_iterations)\n",
    "    \n",
    "    for i in range(n_iterations):\n",
    "        # Calculer le gradient\n",
    "        gradd = grad(X, Y, w)\n",
    "        # Mettre à jour les poids\n",
    "        w -= learning_rate * gradd\n",
    "        \n",
    "        # Calculer la loss et la stocker\n",
    "        losses[i] = loss(X, Y, w)\n",
    "        \n",
    "    return w, losses\n",
    "\n"
   ]
  },
  {
   "cell_type": "markdown",
   "metadata": {},
   "source": [
    "Q16. Affichez la courbe de la loss par rapport aux itérations. Vous devriez lancer votre algorithme sur un grand nombre d'itérations (1 000, par exemple)."
   ]
  },
  {
   "cell_type": "code",
   "execution_count": 331,
   "metadata": {},
   "outputs": [
    {
     "data": {
      "image/png": "[encoded data removed]",
      "text/plain": [
       "<Figure size 1000x600 with 1 Axes>"
      ]
     },
     "metadata": {},
     "output_type": "display_data"
    }
   ],
   "source": [
    "# Définir le nombre d'itérations et le taux d'apprentissage\n",
    "n_iterations = 1000\n",
    "learning_rate = 0.01\n",
    "\n",
    "# Exécuter la descente de gradient avec la nouvelle fonction\n",
    "w_optimal, loss_history = gradient_descent2(X_train_biased, Y_train, w, learning_rate, n_iterations)\n",
    "\n",
    "# Afficher la courbe de la loss\n",
    "plt.figure(figsize=(10, 6))\n",
    "plt.plot(range(n_iterations), loss_history, color='blue')\n",
    "plt.title('Courbe de la Loss par rapport aux itérations')\n",
    "plt.xlabel('Itérations')\n",
    "plt.ylabel('Loss (MSE)')\n",
    "plt.grid()\n",
    "plt.show()\n"
   ]
  },
  {
   "cell_type": "markdown",
   "metadata": {},
   "source": [
    "## Exercice 2 : Régression linéaire polynomiale\n",
    "\n",
    "Maintenant que vous avez implémenté une régression linéaire, vous devriez être capable d'apprendre n'importe quelle combinaison linéaire de paramètres !\n",
    "\n",
    "Dans cet exercice, on s'intéresse toujours à des données 2D (c'est plus facile à visualiser), mais dont la relation est un peu plus complexe."
   ]
  },
  {
   "cell_type": "markdown",
   "metadata": {},
   "source": [
    "Q1. Chargez les données d'entraînement du fichier `data2_train.csv` dans un DataFrame `df2_train` et celles de test du fichier `data2_test.csv` dans un DataFrame `df2_test`."
   ]
  },
  {
   "cell_type": "code",
   "execution_count": 332,
   "metadata": {},
   "outputs": [
    {
     "name": "stdout",
     "output_type": "stream",
     "text": [
      "         x          y\n",
      "0 -4.00000  89.960762\n",
      "1 -3.89899  87.004169\n",
      "2 -3.79798  58.998636\n",
      "3 -3.69697  57.313768\n",
      "4 -3.59596  68.574867\n",
      "          x           y\n",
      "0 -6.000000  310.000000\n",
      "1 -5.959184  303.873318\n",
      "2 -5.918367  297.819531\n",
      "3 -5.877551  291.838231\n",
      "4 -5.836735  285.929009\n"
     ]
    }
   ],
   "source": [
    "# Charger les fichiers CSV dans des DataFrames\n",
    "df2_train = pd.read_csv('data2_train.csv')\n",
    "df2_test = pd.read_csv('data2_test.csv')\n",
    "\n",
    "# Afficher un aperçu des données\n",
    "print(df2_train.head())\n",
    "print(df2_test.head())"
   ]
  },
  {
   "cell_type": "markdown",
   "metadata": {},
   "source": [
    "Q2. Affichez quelques statistiques sur les données d'entraînement : noms des colonnes, types des colonnes, valeurs min, max, quartiles."
   ]
  },
  {
   "cell_type": "code",
   "execution_count": 333,
   "metadata": {},
   "outputs": [
    {
     "name": "stdout",
     "output_type": "stream",
     "text": [
      "Colonnes dans df1_train :  Index(['x', 'y'], dtype='object')\n",
      "Colonnes dans df1_test :  Index(['x', 'y'], dtype='object')\n",
      "Dimensions du df1_train (lignes, colonnes) :  (100, 2)\n",
      "Dimensions du df1_test (lignes, colonnes) :  (100, 2)\n",
      "\n",
      "Types des colonnes du df1_train :\n",
      " x    float64\n",
      "y    float64\n",
      "dtype: object\n",
      "\n",
      "Types des colonnes du df1_test :\n",
      " x    float64\n",
      "y    float64\n",
      "dtype: object\n",
      "\n",
      "Résumé statistique du df1_train :\n",
      "                 x           y\n",
      "count  100.000000  100.000000\n",
      "mean     1.000000   -2.189897\n",
      "std      2.930454   26.748856\n",
      "min     -4.000000  -75.117374\n",
      "25%     -1.500000  -18.510403\n",
      "50%      1.000000   -5.441735\n",
      "75%      3.500000    7.633937\n",
      "max      6.000000   89.960762\n",
      "\n",
      "Résumé statistique du df1_test :\n",
      "                 x           y\n",
      "count  100.000000  100.000000\n",
      "mean     1.000000   24.346939\n",
      "std      6.059214  173.435947\n",
      "min     -6.000000 -236.000000\n",
      "25%     -4.989796 -131.129525\n",
      "50%      1.000000   13.000000\n",
      "75%      6.989796  178.885460\n",
      "max      8.000000  310.000000\n"
     ]
    }
   ],
   "source": [
    "# Quelles sont les colonnes ?\n",
    "print(\"Colonnes dans df1_train : \", df2_train.columns)\n",
    "print(\"Colonnes dans df1_test : \", df2_test.columns)\n",
    "\n",
    "# Combien de lignes (et colonnes) ?\n",
    "print(\"Dimensions du df1_train (lignes, colonnes) : \", df2_train.shape)\n",
    "print(\"Dimensions du df1_test (lignes, colonnes) : \", df2_test.shape)\n",
    "\n",
    "# Quels sont les types des colonnes ?\n",
    "print(\"\\nTypes des colonnes du df1_train :\\n\", df2_train.dtypes)\n",
    "print(\"\\nTypes des colonnes du df1_test :\\n\", df2_test.dtypes)\n",
    "\n",
    "# Quelles sont les valeurs minimales, moyennes, quartiles, etc. ?\n",
    "print(\"\\nRésumé statistique du df1_train :\\n\", df2_train.describe())\n",
    "print(\"\\nRésumé statistique du df1_test :\\n\", df2_test.describe())\n"
   ]
  },
  {
   "cell_type": "markdown",
   "metadata": {},
   "source": [
    "Q3. Visualisez graphiquement les données d'entraînement."
   ]
  },
  {
   "cell_type": "code",
   "execution_count": 334,
   "metadata": {},
   "outputs": [
    {
     "data": {
      "image/png": "[encoded data removed]",
      "text/plain": [
       "<Figure size 1000x600 with 1 Axes>"
      ]
     },
     "metadata": {},
     "output_type": "display_data"
    }
   ],
   "source": [
    "# Tracer le nuage de points des données d'entraînement\n",
    "plt.figure(figsize=(10, 6))\n",
    "sns.scatterplot(data=df2_train, x=df2_train.columns[0], y=df2_train.columns[1], color='blue')\n",
    "plt.title('Nuage de points des données d\\'entraînement')\n",
    "plt.xlabel(df2_train.columns[0])\n",
    "plt.ylabel(df2_train.columns[1])\n",
    "plt.grid(True)\n",
    "plt.show()"
   ]
  },
  {
   "cell_type": "markdown",
   "metadata": {},
   "source": [
    "Q4. À votre avis, de quelle genre de relation s'agit-il ? En déduire une formule abstraite du modèle $y = f(x)$ (utiliser $w_0$, $w_1$, etc. pour les paramètres).\n",
    "\n",
    "<details>\n",
    "<summary>Astuce</summary>\n",
    "C'est un polynôme, à vous de trouver le degré !\n",
    "</details>"
   ]
  },
  {
   "cell_type": "markdown",
   "metadata": {},
   "source": [
    "f(x)=w0+w1^2+w2^3"
   ]
  },
  {
   "cell_type": "markdown",
   "metadata": {},
   "source": [
    "Q5. Sachant que vous n'avez qu'une seule feature $x$ comme entrée, comment faire pour se rapprocher de la formule abstraite que vous avez identifié en Q4 ? Générez ensuite les données d'entraînement `X2_train`, et de test `X2_test` à partir des DataFrames et de votre réponse. Définissez également `Y2_train` et `Y2_test`.\n",
    "\n",
    "<details>\n",
    "<summary>Astuce</summary>\n",
    "\n",
    "Si on considère que $x$ est une feature, $x^2$ peut en être une autre... Attention à ne pas utiliser de features ayant une relation linéaire entre elles, sinon il y aurait une *perfet collinearity* qui peut empêcher le modèle d'apprendre correctement.\n",
    "</details>"
   ]
  },
  {
   "cell_type": "code",
   "execution_count": 335,
   "metadata": {},
   "outputs": [
    {
     "name": "stdout",
     "output_type": "stream",
     "text": [
      "X2_train shape: (100, 3)\n",
      "Y2_train shape: (100,)\n",
      "X2_test shape: (100, 3)\n",
      "Y2_test shape: (100,)\n"
     ]
    }
   ],
   "source": [
    "# Extraire la feature x des DataFrames\n",
    "X2_train = df2_train[df2_train.columns[0]].to_numpy().reshape(-1, 1)  # Assurez-vous qu'il s'agit d'un tableau 2D\n",
    "X2_test = df2_test[df2_test.columns[0]].to_numpy().reshape(-1, 1)\n",
    "\n",
    "# Générer les nouvelles features\n",
    "X2_train = np.hstack((X2_train, X2_train**2, X2_train**3))  # Ajouter x^2 et x^3\n",
    "X2_test = np.hstack((X2_test, X2_test**2, X2_test**3))\n",
    "\n",
    "# Extraire Y des DataFrames\n",
    "Y2_train = df2_train[df2_train.columns[1]].to_numpy()\n",
    "Y2_test = df2_test[df2_test.columns[1]].to_numpy()\n",
    "\n",
    "# Afficher les shapes pour vérifier\n",
    "print(\"X2_train shape:\", X2_train.shape)\n",
    "print(\"Y2_train shape:\", Y2_train.shape)\n",
    "print(\"X2_test shape:\", X2_test.shape)\n",
    "print(\"Y2_test shape:\", Y2_test.shape)\n",
    "\n"
   ]
  },
  {
   "cell_type": "markdown",
   "metadata": {},
   "source": [
    "Q6. Générez aléatoirement les paramètres `w2` (vecteur de taille $k$, selon vos réponses en Q4 et Q5). Utilisez les méthodes déjà implémentées pour apprendre les poids optimaux `w2_learned` : si les méthodes ont été correctement implémentées, le code devrait fonctionner tel quel.\n",
    "\n",
    "<details>\n",
    "<summary>Astuce</summary>\n",
    "\n",
    "Vous aurez certainement besoin de diminuer le *learning rate* pour limiter les erreurs d'overflow. Pour compenser, il faudra augmenter le nombre d'itérations (les poids seront moins mis à jour à chaque itération, donc il faudra les mettre à jour plus de fois).\n",
    "</details>"
   ]
  },
  {
   "cell_type": "code",
   "execution_count": 336,
   "metadata": {},
   "outputs": [],
   "source": [
    "def model2(X, w):\n",
    "    \"\"\"\n",
    "    Fonction pour prédire les valeurs de y selon les données X et les paramètres w.\n",
    "    \n",
    "    Paramètres :\n",
    "    X : np.ndarray\n",
    "        Matrice des données (n individus, k features).\n",
    "    w : np.ndarray\n",
    "        Vecteur des paramètres (k, 1).\n",
    "        \n",
    "    Retourne :\n",
    "    np.ndarray\n",
    "        Vecteur des prédictions (n,).\n",
    "    \"\"\"\n",
    "    predictions = np.dot(X, w)  # Produit scalaire entre X et w\n",
    "    return predictions.flatten()  # Aplatir pour que la sortie soit 1D\n"
   ]
  },
  {
   "cell_type": "code",
   "execution_count": 337,
   "metadata": {},
   "outputs": [],
   "source": [
    "def grad2(X, Y, w):\n",
    "    \"\"\"\n",
    "    Fonction pour calculer le gradient de l'erreur quadratique moyenne (MSE).\n",
    "    \n",
    "    Paramètres :\n",
    "    X : np.ndarray\n",
    "        Matrice des données (n individus, k features).\n",
    "    Y : np.ndarray\n",
    "        Vecteur des vrais labels (n,).\n",
    "    w : np.ndarray\n",
    "        Vecteur des paramètres (k, 1).\n",
    "        \n",
    "    Retourne :\n",
    "    np.ndarray\n",
    "        Vecteur du gradient (k, 1).\n",
    "    \"\"\"\n",
    "    n = X.shape[0]  # Nombre d'individus\n",
    "    # Calcul des prédictions\n",
    "    predictions = model2(X, w)\n",
    "    \n",
    "    # Calcul des erreurs\n",
    "    errors = predictions - Y.flatten()  # S'assurer que tout est 1D\n",
    "    \n",
    "    # Calcul du gradient\n",
    "    gradient = (2 / n) * np.dot(X.T, errors.reshape(-1, 1))  # Produit matriciel X^T (X * w - Y)\n",
    "    \n",
    "    return gradient\n",
    "\n"
   ]
  },
  {
   "cell_type": "code",
   "execution_count": 338,
   "metadata": {},
   "outputs": [],
   "source": [
    "def gradient_descent2(X, Y, w, learning_rate, n_iterations):\n",
    "    \"\"\"\n",
    "    Fonction pour effectuer la descente de gradient sur la MSE avec suivi de la loss.\n",
    "    \n",
    "    Paramètres :\n",
    "    X : np.ndarray\n",
    "        Matrice des données (n individus, k features).\n",
    "    Y : np.ndarray\n",
    "        Vecteur des vrais labels (n,).\n",
    "    w : np.ndarray\n",
    "        Vecteur des paramètres initiaux (k, 1).\n",
    "    learning_rate : float\n",
    "        Taux d'apprentissage.\n",
    "    n_iterations : int\n",
    "        Nombre d'itérations pour la mise à jour des poids.\n",
    "        \n",
    "    Retourne :\n",
    "    Tuple[np.ndarray, List[float]]\n",
    "        Vecteur des paramètres appris (k, 1) et historique de la loss.\n",
    "    \"\"\"\n",
    "    loss_history = []\n",
    "    for i in range(n_iterations):\n",
    "        # Calculer le gradient\n",
    "        gradient = grad2(X, Y, w)\n",
    "        \n",
    "        # Mettre à jour les poids w\n",
    "        w -= learning_rate * gradient.reshape(w.shape)  # Assurez-vous que les dimensions correspondent\n",
    "        \n",
    "        # Calculer et stocker la loss\n",
    "        loss = np.mean((model2(X, w) - Y.flatten())**2)\n",
    "        loss_history.append(loss)\n",
    "    \n",
    "    return w, loss_history\n"
   ]
  },
  {
   "cell_type": "code",
   "execution_count": 347,
   "metadata": {},
   "outputs": [
    {
     "name": "stdout",
     "output_type": "stream",
     "text": [
      "Poids optimisés w2_learned :\n",
      " [[ 0.53514728]\n",
      " [ 1.40142261]\n",
      " [-2.24272272]]\n",
      "Dernière valeur de la loss : 0.09203217288903527\n"
     ]
    }
   ],
   "source": [
    "from sklearn.preprocessing import StandardScaler\n",
    "\n",
    "# Normaliser les données\n",
    "scaler_X = StandardScaler()\n",
    "X2_train = scaler_X.fit_transform(X2_train)\n",
    "\n",
    "scaler_Y = StandardScaler()\n",
    "Y2_train = scaler_Y.fit_transform(Y2_train.reshape(-1, 1)).flatten()\n",
    "\n",
    "# Initialiser les paramètres w2\n",
    "k = X2_train.shape[1]  # Nombre de features\n",
    "w2 = np.zeros((k, 1))  # Initialisation à zéro\n",
    "\n",
    "# Définir le taux d'apprentissage et le nombre d'itérations\n",
    "learning_rate = 0.00005  # Diminuer le learning rate\n",
    "n_iterations = 1000000\n",
    "\n",
    "# Exécute la descente de gradient\n",
    "w2_learned, loss_history = gradient_descent2(X2_train, Y2_train, w2, learning_rate, n_iterations)\n",
    "\n",
    "# Afficher les poids appris et la dernière valeur de la loss\n",
    "print(\"Poids optimisés w2_learned :\\n\", w2_learned)\n",
    "print(\"Dernière valeur de la loss :\", loss_history[-1])\n"
   ]
  },
  {
   "cell_type": "markdown",
   "metadata": {},
   "source": [
    "Q7. Afficher visuellement les prédictions par-dessus les données d'entraînement (idéalement d'une couleur différente, par exemple rouge). La courbe prédite semble-t-elle correspondre aux données ? Sinon, essayez d'augmenter le learning rate (dans la limite des overflows), ou d'augmenter le nombre d'itérations."
   ]
  },
  {
   "cell_type": "code",
   "execution_count": 348,
   "metadata": {},
   "outputs": [
    {
     "data": {
      "image/png": "[encoded data removed]",
      "text/plain": [
       "<Figure size 640x480 with 1 Axes>"
      ]
     },
     "metadata": {},
     "output_type": "display_data"
    }
   ],
   "source": [
    "# Définir une fonction pour prédire les valeurs\n",
    "def predict(X, w):\n",
    "    return np.dot(X, w)\n",
    "\n",
    "# Tracer les données d'entraînement\n",
    "plt.scatter(X2_train[:, 0], Y2_train, color='blue', label='Données d\\'entraînement')\n",
    "\n",
    "# Calculer les prédictions\n",
    "predictions = predict(X2_train, w2_learned)\n",
    "\n",
    "# Tracer les prédictions\n",
    "plt.plot(X2_train[:, 0], predictions, color='red', label='Prédictions')\n",
    "\n",
    "# Ajouter des étiquettes et une légende\n",
    "plt.xlabel('X2_train')\n",
    "plt.ylabel('Y2_train')\n",
    "plt.title('Prédictions par rapport aux données d\\'entraînement')\n",
    "plt.legend()\n",
    "\n",
    "# Afficher le graphique\n",
    "plt.show()\n"
   ]
  },
  {
   "cell_type": "markdown",
   "metadata": {},
   "source": [
    "Q8. Vérifier la loss sur les données de test, et affichez les prédictions visuellement par-dessus le nuage de points (en incluant les données de test en plus de celles d'entraînement, idéalement dans une couleur différente, par exemple vert)."
   ]
  },
  {
   "cell_type": "code",
   "execution_count": null,
   "metadata": {},
   "outputs": [],
   "source": []
  },
  {
   "cell_type": "markdown",
   "metadata": {},
   "source": [
    "Q9. Quelle est la formule du modèle appris ? En d'autres termes, interprétez le modèle."
   ]
  },
  {
   "cell_type": "code",
   "execution_count": null,
   "metadata": {},
   "outputs": [],
   "source": []
  },
  {
   "cell_type": "markdown",
   "metadata": {},
   "source": [
    "## Exercice 3 : Application à des données réelles (Starbucks)\n",
    "\n",
    "Maintenant que vous êtes à l'aise (on l'espère !) avec les régressions linéaires, il est temps de quitter le monde des espaces 2D faciles à visualiser, pour utiliser un *dataset* issu de données réelles. Nous allons dans cet exercice jouer avec les boissons de Starbucks et prédire leur nombre de calories selon leurs caractéristiques."
   ]
  },
  {
   "cell_type": "markdown",
   "metadata": {},
   "source": [
    "Pour information, les colonnes `Beverage_category` et `Beverage_prep` sont des données **catégorielles** : elles représentent un type (une catégorie) plutôt qu'une quantité. Vous trouverez ci-dessous la relation entre les valeurs numériques et la catégorie correspondante \"dans la vraie vie\".\n",
    "\n",
    "<details>\n",
    "<summary>Description des données catégorielles</summary>\n",
    "\n",
    "- Pour `Beverage_category`:\n",
    "\n",
    "|ID | Catégorie de boisson               |\n",
    "|---|------------------------------------|\n",
    "| 0 | Coffee                             |\n",
    "| 1 | Classic Espresso Drinks            |\n",
    "| 2 | Signature Espresso Drinks          |\n",
    "| 3 | Tazo® Tea Drinks                   |\n",
    "| 4 | Shaken Iced Beverages              |\n",
    "| 5 | Smoothies                          |\n",
    "| 6 | Frappuccino® Blended Coffee        |\n",
    "| 7 | Frappuccino® Light Blended Coffee  |\n",
    "| 8 | Frappuccino® Blended Crème         |\n",
    "\n",
    "- Pour `Beverage_prep`:\n",
    "\n",
    "| ID | Préparation de boisson |\n",
    "|----|------------------------|\n",
    "| 0  | Short                  |\n",
    "| 1  | Tall                   |\n",
    "| 2  | Grande                 |\n",
    "| 3  | Venti                  |\n",
    "| 4  | Short Nonfat Milk      |\n",
    "| 5  | 2% Milk                |\n",
    "| 6  | Soymilk                |\n",
    "| 7  | Tall Nonfat Milk       |\n",
    "| 8  | Grande Nonfat Milk     |\n",
    "| 9  | Venti Nonfat Milk      |\n",
    "| 10 | Solo                   |\n",
    "| 11 | Doppio                 |\n",
    "| 12 | Whole Milk             |"
   ]
  },
  {
   "cell_type": "markdown",
   "metadata": {},
   "source": [
    "Q1. Chargez le fichier `starbucks.csv` dans un DataFrame `df3`.\n",
    "\n",
    "<details>\n",
    "<summary>Astuce</summary>\n",
    "\n",
    "Le fichier a été un peu nettoyé par rapport aux données d'origine, mais il reste quelques erreurs ou surprises. Si vous avez des problèmes en indexant les colonnes, vérifiez le nom des colonnes à double reprise ! Les CSVs mal formés sont un problème fréquent avec des données réelles. Vous avez le choix de corriger les erreurs ou de faire avec.\n",
    "</details>"
   ]
  },
  {
   "cell_type": "code",
   "execution_count": null,
   "metadata": {},
   "outputs": [],
   "source": []
  },
  {
   "cell_type": "markdown",
   "metadata": {},
   "source": [
    "Q2. Affichez les 10 premières lignes du dataset."
   ]
  },
  {
   "cell_type": "code",
   "execution_count": null,
   "metadata": {},
   "outputs": [],
   "source": []
  },
  {
   "cell_type": "markdown",
   "metadata": {},
   "source": [
    "Q3.  Quels sont les noms des colonnes ? Quels sont leur type ? Affichez quelques statistiques (min, max, quartiles, nombre de valeurs) pour chaque colonne.\n",
    "\n",
    "<details>\n",
    "<summary>Astuce</summary>\n",
    "\n",
    "Attention ! Si une colonne n'est pas de type nombre (pas un int ou float, peu importe leur précision), on ne peut pas calculer de min, max, quartiles dessus. On voudrait quand même savoir combien de valeurs sont présentes, quelle est la valeur la plus fréquente, ... Il faut pour cela ajouter un paramètre à la méthode [df.describe()](https://pandas.pydata.org/pandas-docs/stable/reference/api/pandas.DataFrame.describe.html), car elle ne le fait pas de base.\n",
    "</details>"
   ]
  },
  {
   "cell_type": "code",
   "execution_count": null,
   "metadata": {},
   "outputs": [],
   "source": []
  },
  {
   "cell_type": "markdown",
   "metadata": {},
   "source": [
    "Q4. Sur un dataset avec autant de colonnes, et des données variées, les statistiques ne suffisent pas forcément à comprendre les données. Il faut donc visualiser la distribution de ces données.\n",
    "\n",
    "Pour ce TP1, nous allons rester simples, et visualiser les distributions colonne par colonne. Vous pouvez bien sûr utiliser les méthodes de Matplotlib et Seaborn, mais Pandas propose quelques méthodes directement au niveau du jeu de données pour faciliter cette analyse (les méthodes appellent celles de Matplotlib ensuite). Renseignez-vous brièvement sur les méthodes de visualisation : [Pandas Plotting](https://pandas.pydata.org/pandas-docs/stable/user_guide/visualization.html#visualization). En particulier, quels sont les différents types de graphiques disponibles ?"
   ]
  },
  {
   "cell_type": "code",
   "execution_count": null,
   "metadata": {},
   "outputs": [],
   "source": []
  },
  {
   "cell_type": "markdown",
   "metadata": {},
   "source": [
    "Q5. Visualisez les données **numériques** (en excluant donc les 3 premières colonnes). Quel type de plot vous semble approprié pour cela ? On veut afficher 1 plot par colonne.\n",
    "\n",
    "<details>\n",
    "<summary>Astuce</summary>\n",
    "\n",
    "Vous pouvez simplement faire une boucle sur les colonnes désirées et demander un plot pour chacune ; ou (plus compliqué), préparer une figure avec des *subplots* (via [plt.subplots()](https://matplotlib.org/stable/api/_as_gen/matplotlib.pyplot.subplots.html)), puis placer chacun des graphiques dans les bons axes (`subplots` renvoie un objet de type `Figure` et un tableau potentiellement 2D d'`Axes`).\n",
    "</details>"
   ]
  },
  {
   "cell_type": "code",
   "execution_count": null,
   "metadata": {},
   "outputs": [],
   "source": []
  },
  {
   "cell_type": "markdown",
   "metadata": {},
   "source": [
    "Q6. Visualisez maintenant les données **catégorielles**.\n",
    "\n",
    "<details>\n",
    "<summary>Astuce</summary>\n",
    "\n",
    "Malheureusement, la méthode [df.plot()](https://pandas.pydata.org/pandas-docs/stable/reference/api/pandas.DataFrame.plot.html#pandas.DataFrame.plot) n'est pas très intéressante pour les données catégorielles : le type de plot proposé le plus intéressant serait un histogramme (pour afficher le nombre de fois que chaque catégorie apparaît), mais cette méthode utilise des *bins* pour regrouper les données entre elles et faire une estimation. C'est très utile pour des données continues, mais beaucoup moins pour des données catégorielles.\n",
    "\n",
    "À la place, on peut se tourner vers [sns.countplot()](https://seaborn.pydata.org/generated/seaborn.countplot.html) qui se base sur le même principe d'histogramme, mais sans *bins* ; elle est donc beaucoup plus appropriée pour les données catégorielles.\n",
    "\n",
    "Si les labels se superposent et sont illisibles, vous pouvez leur appliquer une rotation via la méthode [ax.tick_params()](https://matplotlib.org/stable/api/_as_gen/matplotlib.pyplot.tick_params.html) ; attention, il faudra pour cela récupérer un objet `ax` de types `Axes` !\n",
    "</details>"
   ]
  },
  {
   "cell_type": "code",
   "execution_count": null,
   "metadata": {},
   "outputs": [],
   "source": []
  },
  {
   "cell_type": "markdown",
   "metadata": {},
   "source": [
    "Q7. La colonne `Beverage` va nous embêter : trop de valeurs (catégories) distinctes possibles, l'algorithme va avoir du mal à apprendre des poids (nous verrons dans les cours suivants comment mieux gérer ce genre de données). Supprimez-la de `df3`.\n",
    "\n",
    "<details>\n",
    "<summary>Astuce</summary>\n",
    "\n",
    "La méthode [df.drop()](https://pandas.pydata.org/pandas-docs/stable/reference/api/pandas.DataFrame.drop.html) est votre amie ; attention en particulier à la notion de modification \"sur-place\" (*inplace*) ou non. Pour la plupart des méthodes de Pandas qui modifient un DataFrame, vous pouvez choisir de modifier le DataFrame ou d'en retourner une copie. Outre les effets de bords possibles, cela va déterminer si vous devez récupérer la valeur de retour de la méthode ou non !\n",
    "</details>"
   ]
  },
  {
   "cell_type": "code",
   "execution_count": null,
   "metadata": {},
   "outputs": [],
   "source": []
  },
  {
   "cell_type": "markdown",
   "metadata": {},
   "source": [
    "Q8. Préparez maintenant les données d'entraînement et de test. Comme nous l'avons vu en cours, on veut généralement 10% à 20% des données initiales dans le jeu de données de test. Ici, il y a peu de données ; si on en met trop dans celles de test, il n'en restera pas assez dans le jeu d'entraînement pour que l'algorithme apprenne un bon modèle. On va donc répartir 90-10 plutôt que 80-20.\n",
    "\n",
    "Les features sont toutes les colonnes, sauf `'Calories'` ; le label est la colonne `'Calories'`.\n",
    "\n",
    "Répartissez les données en `X3_train`, `Y3_train`, `X3_test`, et `Y3_test`.\n",
    "\n",
    "<details>\n",
    "<summary>Astuce</summary>\n",
    "\n",
    "Idéalement, on veut choisir les données de test aléatoirement parmi les données originales : cela rend plus probable le fait que les données de test soient similaires aux données d'entraînement (imaginez par exemple que les données soient ordonnées sur une certaine colonne, et que vous ne preniez que les 10 derniers % !).\n",
    "\n",
    "Scikit-learn contient de nombreuses méthodes pour cela (selon des connaissances à priori sur les données : classes déséquilibrées, dépendance temporelle, ...) ; nous allons faire simple et utiliser [sklearn.model_selection.train_test_split()](https://scikit-learn.org/stable/modules/generated/sklearn.model_selection.train_test_split.html).\n",
    "\n",
    "Sklearn peut travailler avec des matrices NumPy ou des DataFrames Pandas, vous pouvez donc répartir en \"train/test\" d'abord puis \"X/Y\" ou \"X/Y\" d'abord puis \"train/test\" ensuite.\n",
    "</details>"
   ]
  },
  {
   "cell_type": "code",
   "execution_count": null,
   "metadata": {},
   "outputs": [],
   "source": []
  },
  {
   "cell_type": "markdown",
   "metadata": {},
   "source": [
    "Q8bis. Vérifiez les shapes de vos données `X3_train`, `X3_test`, `Y3_train`, `Y3_test`."
   ]
  },
  {
   "cell_type": "code",
   "execution_count": null,
   "metadata": {},
   "outputs": [],
   "source": []
  },
  {
   "cell_type": "markdown",
   "metadata": {},
   "source": [
    "Q9. Ajoutez la colonne de biais aux features."
   ]
  },
  {
   "cell_type": "code",
   "execution_count": null,
   "metadata": {},
   "outputs": [],
   "source": []
  },
  {
   "cell_type": "markdown",
   "metadata": {},
   "source": [
    "Q10. Initialisez les paramètres `w3` aléatoirement (vecteur de taille correspondant aux données)."
   ]
  },
  {
   "cell_type": "code",
   "execution_count": null,
   "metadata": {},
   "outputs": [],
   "source": []
  },
  {
   "cell_type": "markdown",
   "metadata": {},
   "source": [
    "Q11. Apprenez les paramètres optimaux `w3_learned` en ré-utilisant les fonctions déjà implémentées."
   ]
  },
  {
   "cell_type": "code",
   "execution_count": null,
   "metadata": {},
   "outputs": [],
   "source": []
  },
  {
   "cell_type": "markdown",
   "metadata": {},
   "source": [
    "Q12. Calculez la loss sur les données de test."
   ]
  },
  {
   "cell_type": "code",
   "execution_count": null,
   "metadata": {},
   "outputs": [],
   "source": []
  },
  {
   "cell_type": "markdown",
   "metadata": {},
   "source": [
    "Q13. Affichez la courbe de la loss pour chaque itération."
   ]
  },
  {
   "cell_type": "code",
   "execution_count": null,
   "metadata": {},
   "outputs": [],
   "source": []
  },
  {
   "cell_type": "markdown",
   "metadata": {},
   "source": [
    "Q14. Interprétez le modèle : pour combien de calories compte chaque gramme de sucre dans la prédiction ? Et chaque gramme de caféine ?"
   ]
  },
  {
   "cell_type": "code",
   "execution_count": null,
   "metadata": {},
   "outputs": [],
   "source": []
  },
  {
   "cell_type": "markdown",
   "metadata": {},
   "source": [
    "## Exercice bonus : Régression logistique\n",
    "\n",
    "*Cet exercice est en bonus, vous pouvez le faire si vous avez le temps ou que vous êtes curieux.*\n",
    "\n",
    "Nous allons ré-utiliser les données de Starbucks, cette fois-ci pour faire une régression logistique. La régression logistique consiste à prédire la probabilité qu'un individu appartienne à une classe donnée ; pour cette raison, on l'utilise souvent pour faire de la classification (en utilisant un seuil de probabilité, par exemple 50% : si la prédiction est au-dessus de 50%, on prédit que l'individu appartient à la classe).\n",
    "\n",
    "On va chercher à prédire si la boisson est un *Classique Espresso Drinks* (`Beverage_category == 1`) ou un *Tazo® Tea Drinks* (`Beverage_category == 3`).\n",
    "(Il s'agit donc d'un problème de classification *binaire*, nous pourrions prédire pour chaque classe mais c'est un peu plus compliqué !)"
   ]
  },
  {
   "cell_type": "markdown",
   "metadata": {},
   "source": [
    "Q1. Préparez les données : créez un DataFrame `df4` qui ne contiendra que les lignes de `df3` pour lesquelles `Beverage_category` vaut `1` ou `3`. Supprimez également la colonne `Beverage`. Remplacez ensuite les valeurs de `Beverage_category` pour que la classe `1` devienne `0`, et la classe `3` devienne `1`.\n",
    "\n",
    "<details>\n",
    "<summary>Astuce</summary>\n",
    "\n",
    "Utilisez la méthode [df.replace()](https://pandas.pydata.org/pandas-docs/stable/reference/api/pandas.DataFrame.replace.html)\n",
    "</details>"
   ]
  },
  {
   "cell_type": "code",
   "execution_count": null,
   "metadata": {},
   "outputs": [],
   "source": []
  },
  {
   "cell_type": "markdown",
   "metadata": {},
   "source": [
    "Q2. Affichez les valeurs de toutes les colonns numériques, en groupant selon qu'il s'agisse d'un espresso (classe 1) ou d'un thé (classe 3).\n",
    "\n",
    "<details>\n",
    "<summary>Astuce</summary>\n",
    "\n",
    "On cherche à afficher des données numériques, en fonction d'une donnée catégorielle. Il existe de nombreuses méthodes pour cela dans [Seaborn](https://seaborn.pydata.org/tutorial/function_overview.html#figure-level-vs-axes-level-functions). Essayez par exemple un [swarmplot](https://seaborn.pydata.org/generated/seaborn.swarmplot.html) ou un [boxplot](https://seaborn.pydata.org/generated/seaborn.boxplot.html).\n",
    "</details>"
   ]
  },
  {
   "cell_type": "code",
   "execution_count": null,
   "metadata": {},
   "outputs": [],
   "source": []
  },
  {
   "cell_type": "markdown",
   "metadata": {},
   "source": [
    "Q3. Séparez les données en `X4_train`, `Y4_train`, `X4_test`, `Y4_test`, sachant que l'on cherche à prédire la classe `Beverage_category`, et que toutes les autres colonnes sont les features."
   ]
  },
  {
   "cell_type": "code",
   "execution_count": null,
   "metadata": {},
   "outputs": [],
   "source": []
  },
  {
   "cell_type": "markdown",
   "metadata": {},
   "source": [
    "Q4. Nous allons maintenant implémenter la Régression Logistique avec descente de gradient.\n",
    "\n",
    "Rappel : la régression logistique utilise une fonction de sortie différente de la régression linéaire (sigmoïde au lieu d'une combinaison linéaire), la fonction de perte et le gradient seront donc différents également.\n",
    "Le modèle est :\n",
    "\n",
    "$$\n",
    "y = sigmoid_w(x) = \\frac{1}{1 + e^{-w \\cdot x}}\n",
    "$$\n",
    "\n",
    "Implémentez la fonction `logistic_model(X, w)` qui retourne les prédictions (probabilités) pour chaque $x_i$ dans $X$, en fonction des paramètres $w$."
   ]
  },
  {
   "cell_type": "code",
   "execution_count": null,
   "metadata": {},
   "outputs": [],
   "source": []
  },
  {
   "cell_type": "markdown",
   "metadata": {},
   "source": [
    "Q5. Implémentez la fonction de coût `logistic_loss(X, Y, w)` associée à une sortie sigmoïde.\n",
    "\n",
    "Rappel :\n",
    "La fonction de coût est le *log loss* ou *binary cross-entropy* :\n",
    "\n",
    "$$\n",
    "J(w) = -\\frac{1}{n} \\sum_{i=1}^{n} \\left[ y_i \\times log(sigmoid_w(x_i)) + (1 - y_i) \\times log(1 - sigmoid_w(x_i)) \\right]\n",
    "$$\n",
    "\n",
    "<details>\n",
    "<summary>Astuce</summary>\n",
    "\n",
    "Vous aurez probablement besoin d'ajouter un très léger $\\epsilon$ (par exemple : $10^{-7}$) à l'intérieur des appels à $log$, car $log(0) = -\\inf$, ce qui cause des *warnings* dans NumPy (et n'est pas une donnée facile à traiter, comme NaN).\n",
    "</details>\n",
    "\n",
    "\n",
    "<details>\n",
    "<summary>Détails de la cross-entropy binaire</summary>\n",
    "\n",
    "Cette fonction est assez intuitive quand on part de l'autre sens : quelle est la classe réelle, la prédiction, et donc quelle erreur veut-on donner ?\n",
    "\n",
    "- Quand la classe $y_i$ vaut $1$ :\n",
    "\n",
    "On veut que la prédiction (la probabilité que l'élément appartienne à la classe $1$) s'approche le plus possible de $1$.\n",
    "La prédiction (nommée $p$ pour faire plus simple) est donnée par $p = sigmoid_w(x_i)$. On veut donc que le coût soit très élevé quand $p$ tend vers $0$, et que le coût soit minimal quand $p$ tend vers $1$. La fonction $log$ a presque ce comportement : elle tend vers $-\\inf$ quand $p$ tend vers $0$, et vaut $0$ quand $p$ vaut $1$. On prend donc simplement l'opposé : $-log(p)$.\n",
    "\n",
    "On ne veut cela que quand $y_i = 1$, donc on multiplie par $y_i$ ($y_i$ ne peut être que $0$ ou $1$) : $y_i \\times (-log(sigmoid_w(x_i)))$. (Nous venons de retrouver le premier terme de la somme, simplement le $-$ est sorti de la somme dans la fonction de coût moyennée.)\n",
    "\n",
    "- Quand la classe $y_0$ vaut $0$ :\n",
    "\n",
    "On veut que la prédiction s'approche le plus possible de $0$. Là encore, $p = sigmoid_w(x_i)$. On veut que le coût soit très élevé quand $p$ tend vers $1$, et minimal quand $p$ tend vers $0$. On rappelle que $-log(p)$ tend vers $+\\inf$ quand $p$ tend vers $0$, et vaut $0$ quand $p = 1$. On prend donc $-log(1 - p)$, qui vaut $0$ quand $p = 0$ (càd que $1 - p = 1$), et qui tend vers $+\\inf$ quand $p$ tend vers $1$ (càd que $1 - p$ tend vers $0$).\n",
    "\n",
    "Là encore, on ne veut cela que quand $y_i = 0$, donc on multiplie par $(1 - y_i)$ : $(1 - y_i) \\times (-log(1 - sigmoid_w(x_i)))$. (Nous venons de retrouver le deuxième terme de la somme).\n",
    "\n",
    "Pour s'en convaincre graphiquement :\n",
    "\n",
    "<iframe src=\"https://www.desmos.com/calculator/zkwbrcpcwt?embed\" width=\"500\" height=\"500\" style=\"border: 1px solid #ccc\" frameborder=0></iframe>\n",
    "\n",
    "La courbe rouge est $-log(p)$ ; la courbe bleue est $-log(1-p)$.\n",
    "\n",
    "- Au final :\n",
    "\n",
    "On additionne les 2 termes précédents : $y_i \\times (-log(sigmoid_w(x_i))) + (1 - y_i) \\times (-log(1 - sigmoid_w(x_i)))$. Comme on l'a vu, selon que la classe soit $0$ ou $1$, l'un des 2 termes va s'annuler et il ne restera donc que l'autre : on vient d'écrire un `if` sous forme d'addition de 2 termes !\n",
    "\n",
    "Finalement, on fait la somme pour tous les $i$, on factorise le $-$ (dans $-log$) hors de la somme, et on divise par $n$ pour faire une erreur moyenne. \n",
    "</details>"
   ]
  },
  {
   "cell_type": "code",
   "execution_count": null,
   "metadata": {},
   "outputs": [],
   "source": []
  },
  {
   "cell_type": "markdown",
   "metadata": {},
   "source": [
    "Q6. Implémentez la fonction de gradient `logistic_grad(X, Y, w)`.\n",
    "\n",
    "Le gradient de la binary cross-entropy est :\n",
    "\n",
    "$$\n",
    "\\nabla J(w) = \\frac{1}{n} \\sum_{i=1}^{n} (sigmoid_w(x_i) - y_i)x_i\n",
    "$$"
   ]
  },
  {
   "cell_type": "code",
   "execution_count": null,
   "metadata": {},
   "outputs": [],
   "source": []
  },
  {
   "cell_type": "markdown",
   "metadata": {},
   "source": [
    "Q7. Implémentez la descente de gradient `logistic_gradient_descend(X, Y, w, learning_rate, n_iterations)` (l'algorithme est le même que pour la régression linéaire, il faut simplement utiliser les nouvelles méthodes)."
   ]
  },
  {
   "cell_type": "code",
   "execution_count": null,
   "metadata": {},
   "outputs": [],
   "source": []
  },
  {
   "cell_type": "markdown",
   "metadata": {},
   "source": [
    "Q8. Générez des paramètres `w4` (de taille $k$ correspondante aux features) et utilisez la descente de gradient pour apprendre les paramètres optimaux `w4_learned`."
   ]
  },
  {
   "cell_type": "code",
   "execution_count": null,
   "metadata": {},
   "outputs": [],
   "source": []
  },
  {
   "cell_type": "markdown",
   "metadata": {},
   "source": [
    "Q9. Affichez la log loss pour chaque itération, ainsi que la loss finale."
   ]
  },
  {
   "cell_type": "code",
   "execution_count": null,
   "metadata": {},
   "outputs": [],
   "source": []
  },
  {
   "cell_type": "markdown",
   "metadata": {},
   "source": [
    "Q10. Vérifiez la log loss sur les données de test.\n",
    "\n",
    "<details>\n",
    "<summary>Astuce</summary>\n",
    "\n",
    "Si vous avez ajouté un $\\epsilon$ dans les appels à $log$, pensez à le mettre à $0$ ici, sinon la loss ne correspondra pas tout à fait aux prédictions du modèle ! Ce n'est pas grave en entraînement, car on itère progressivement et on utilise le gradient qui, lui, ne prend pas en compte cet $\\epsilon$, mais pour le test on veut savoir à quel point le modèle \"performe bien\".\n",
    "</details>"
   ]
  },
  {
   "cell_type": "code",
   "execution_count": null,
   "metadata": {},
   "outputs": [],
   "source": []
  },
  {
   "cell_type": "markdown",
   "metadata": {},
   "source": [
    "Q11. On peut également utiliser un autre score pour vérifier que les prédictions sont correctes sur les données de test : la *0-1 loss*.\n",
    "\n",
    "Elle consiste à compter le nombre de fois qu'une prédiction est différente du label, puis à diviser par le nombre d'individus pour obtenir un ratio entre $0$ et $1$. Idéalement, une *0-1 loss* de $0$ indique que nous avons correctement prédit le label à chaque fois, tandis qu'une *0-1 loss* de $1$ indique que nous nous sommes trompés à chaque fois (peu importe comment on s'est trompés).\n",
    "\n",
    "Attention : n'oubliez pas que le modèle produit des **probabilités** en sortie, on veut à la place une classe ! Utilisez par exemple un seuil de prédiction à $0.5$, c'est-à-dire que si la probabilité est $<0.5$, on suppose que la classe est 0, et si la probabilité est $>0.5$, on suppose que la classe est 1.\n",
    "\n",
    "Implémentez la fonction `loss01(X, Y, w)`.\n",
    "\n",
    "<details>\n",
    "<summary>Pourquoi n'utilise-t-on pas la 0-1 loss pour apprendre le modèle ?</summary>\n",
    "\n",
    "Parce qu'elle n'est pas différentiable, et donc on ne peut pas appliquer la descente de gradient, contrairement à la *cross-entropy loss*.\n",
    "\n",
    "</details>"
   ]
  },
  {
   "cell_type": "code",
   "execution_count": null,
   "metadata": {},
   "outputs": [],
   "source": []
  },
  {
   "cell_type": "markdown",
   "metadata": {},
   "source": [
    "Q12. Vérifiez votre 0-1 loss sur les données d'entrainement : normalement le modèle devrait faire un sans-faute."
   ]
  },
  {
   "cell_type": "code",
   "execution_count": null,
   "metadata": {},
   "outputs": [],
   "source": []
  },
  {
   "cell_type": "markdown",
   "metadata": {},
   "source": [
    "Q13. Vérifiez maintenant la 0-1 loss sur les données de test."
   ]
  },
  {
   "cell_type": "code",
   "execution_count": null,
   "metadata": {},
   "outputs": [],
   "source": []
  }
 ],
 "metadata": {
  "kaggle": {
   "accelerator": "none",
   "dataSources": [
    {
     "datasetId": 4116473,
     "sourceId": 7134305,
     "sourceType": "datasetVersion"
    }
   ],
   "dockerImageVersionId": 30761,
   "isGpuEnabled": false,
   "isInternetEnabled": false,
   "language": "python",
   "sourceType": "notebook"
  },
  "kernelspec": {
   "display_name": "Python 3 (ipykernel)",
   "language": "python",
   "name": "python3"
  },
  "language_info": {
   "codemirror_mode": {
    "name": "ipython",
    "version": 3
   },
   "file_extension": ".py",
   "mimetype": "text/x-python",
   "name": "python",
   "nbconvert_exporter": "python",
   "pygments_lexer": "ipython3",
   "version": "3.9.16"
  }
 },
 "nbformat": 4,
 "nbformat_minor": 4
}
